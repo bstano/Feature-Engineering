{
 "cells": [
  {
   "cell_type": "markdown",
   "metadata": {},
   "source": [
    "# Importing and Cleaning the Data\n",
    "\n",
    "I have been given data of 1000 different reviews from 3 different companies: Amazon, IMDB, and Yelp. The data contains the review in it's entirety (all reviews are only about one sentence long) and whether or not the review was a positive or a negative one. (and there is a equal split between positive and negative) I will be creating a sentiment classifer that can predict whether or not the review was a positive or a negative one based on word choice. \n",
    "\n",
    "All 3 set of reviews have very different contexts. Amazon, IMDB, and Yelp reviews are of products, movies, and resturants respectively. Is is possible to create a classifier that can apply to all 3 situations?"
   ]
  },
  {
   "cell_type": "code",
   "execution_count": 103,
   "metadata": {},
   "outputs": [],
   "source": [
    "import numpy as np\n",
    "import pandas as pd\n",
    "import matplotlib.pyplot as plt\n",
    "import seaborn as sns\n",
    "import math\n",
    "import codecs\n",
    "import random\n",
    "from collections import Counter\n",
    "from IPython.core.display import HTML\n",
    "from sklearn.naive_bayes import BernoulliNB\n",
    "from sklearn.preprocessing import StandardScaler\n",
    "\n",
    "%matplotlib inline"
   ]
  },
  {
   "cell_type": "markdown",
   "metadata": {},
   "source": [
    "I will focus on one group of reviews at first, Amazon's. The data has come to me as a text file so I will need to do a little bit of cleaning to get it into a workable format."
   ]
  },
  {
   "cell_type": "code",
   "execution_count": 2,
   "metadata": {},
   "outputs": [],
   "source": [
    "with codecs.open('amazon_cells_labelled.txt', \"r\",encoding='utf-8', errors='ignore') as fdata:\n",
    "    sentiment_raw = fdata.read()"
   ]
  },
  {
   "cell_type": "code",
   "execution_count": 62,
   "metadata": {},
   "outputs": [],
   "source": [
    "#print(sentiment_raw[0:500])"
   ]
  },
  {
   "cell_type": "code",
   "execution_count": 4,
   "metadata": {},
   "outputs": [],
   "source": [
    "sentiment_split = sentiment_raw.split('\\n')"
   ]
  },
  {
   "cell_type": "code",
   "execution_count": 57,
   "metadata": {},
   "outputs": [
    {
     "data": {
      "text/plain": [
       "0    So there is no way for me to plug it in here i...\n",
       "1                       Good case, Excellent value.\\t1\n",
       "2                            Great for the jawbone.\\t1\n",
       "3    Tied to charger for conversations lasting more...\n",
       "4                                 The mic is great.\\t1\n",
       "dtype: object"
      ]
     },
     "metadata": {},
     "output_type": "display_data"
    }
   ],
   "source": [
    "sentiment_series = pd.Series(sentiment_split)\n",
    "display(sentiment_series.head())\n",
    "#display(sentiment_series[1000])"
   ]
  },
  {
   "cell_type": "code",
   "execution_count": 6,
   "metadata": {},
   "outputs": [],
   "source": [
    "del sentiment_series[1000]"
   ]
  },
  {
   "cell_type": "code",
   "execution_count": 7,
   "metadata": {},
   "outputs": [],
   "source": [
    "sentiment = sentiment_series.str.split('\\t',n=2,expand=True)\n",
    "sentiment.columns = ['Message', 'Positive']"
   ]
  },
  {
   "cell_type": "code",
   "execution_count": 59,
   "metadata": {},
   "outputs": [
    {
     "name": "stdout",
     "output_type": "stream",
     "text": [
      "(1000, 2)\n"
     ]
    },
    {
     "data": {
      "text/html": [
       "<div>\n",
       "<style scoped>\n",
       "    .dataframe tbody tr th:only-of-type {\n",
       "        vertical-align: middle;\n",
       "    }\n",
       "\n",
       "    .dataframe tbody tr th {\n",
       "        vertical-align: top;\n",
       "    }\n",
       "\n",
       "    .dataframe thead th {\n",
       "        text-align: right;\n",
       "    }\n",
       "</style>\n",
       "<table border=\"1\" class=\"dataframe\">\n",
       "  <thead>\n",
       "    <tr style=\"text-align: right;\">\n",
       "      <th></th>\n",
       "      <th>Message</th>\n",
       "      <th>Positive</th>\n",
       "    </tr>\n",
       "  </thead>\n",
       "  <tbody>\n",
       "    <tr>\n",
       "      <th>0</th>\n",
       "      <td>So there is no way for me to plug it in here i...</td>\n",
       "      <td>0</td>\n",
       "    </tr>\n",
       "    <tr>\n",
       "      <th>1</th>\n",
       "      <td>Good case, Excellent value.</td>\n",
       "      <td>1</td>\n",
       "    </tr>\n",
       "    <tr>\n",
       "      <th>2</th>\n",
       "      <td>Great for the jawbone.</td>\n",
       "      <td>1</td>\n",
       "    </tr>\n",
       "    <tr>\n",
       "      <th>3</th>\n",
       "      <td>Tied to charger for conversations lasting more...</td>\n",
       "      <td>0</td>\n",
       "    </tr>\n",
       "    <tr>\n",
       "      <th>4</th>\n",
       "      <td>The mic is great.</td>\n",
       "      <td>1</td>\n",
       "    </tr>\n",
       "  </tbody>\n",
       "</table>\n",
       "</div>"
      ],
      "text/plain": [
       "                                             Message Positive\n",
       "0  So there is no way for me to plug it in here i...        0\n",
       "1                        Good case, Excellent value.        1\n",
       "2                             Great for the jawbone.        1\n",
       "3  Tied to charger for conversations lasting more...        0\n",
       "4                                  The mic is great.        1"
      ]
     },
     "metadata": {},
     "output_type": "display_data"
    }
   ],
   "source": [
    "print(sentiment.shape)\n",
    "display(sentiment.head())\n"
   ]
  },
  {
   "cell_type": "markdown",
   "metadata": {},
   "source": [
    "# Creating the Classifier\n",
    "\n",
    "Now that I have a the amazon review data in a workable format, I'll create a dataframe to store the results of my classifications. Then, I will create a list of positive and negative words that the model and can use to identify a positive or negative comment."
   ]
  },
  {
   "cell_type": "code",
   "execution_count": 75,
   "metadata": {},
   "outputs": [],
   "source": [
    "features = pd.DataFrame()\n",
    "\n",
    "features['Positive'] = sentiment['Positive'].apply({'1' :True, '0' :False}.get)\n",
    "\n",
    "keywords_pos = ['good','great','awesome','like','liked','love','loved','well','best','better','excellent','must have']\n",
    "\n",
    "for key in keywords_pos:\n",
    "    features[str(key)] = sentiment.Message.str.contains(str(key),case=False)\n",
    "    \n",
    "keywords_neg = [\"disappoint\",\"disappointed\",\"hate\",\"hated\",\"awful\",'does not work', \"doesn't work\",\"negative\",\n",
    "                'unsatisfactory','problem','junk','not enough','fooled','waste','regret']\n",
    "\n",
    "for key in keywords_neg:\n",
    "    features[str(key)] = True\n",
    "    for i in range(1000):\n",
    "        features[str(key)][i] = key not in sentiment['Message'][i].lower()"
   ]
  },
  {
   "cell_type": "code",
   "execution_count": 76,
   "metadata": {},
   "outputs": [],
   "source": [
    "#display(features.head())"
   ]
  },
  {
   "cell_type": "markdown",
   "metadata": {},
   "source": [
    "I'll display a heatmap to better see how my classifiers interact"
   ]
  },
  {
   "cell_type": "code",
   "execution_count": 77,
   "metadata": {},
   "outputs": [
    {
     "data": {
      "image/png": "[encoded data removed]",
      "text/plain": [
       "<Figure size 864x648 with 2 Axes>"
      ]
     },
     "metadata": {},
     "output_type": "display_data"
    }
   ],
   "source": [
    "fcorr = features.corr()\n",
    "f, ax = plt.subplots(figsize=(12, 9))\n",
    "\n",
    "# Draw the heatmap using seaborn\n",
    "sns.heatmap(fcorr, vmax=.8, vmin=-0.8, square=True)\n",
    "plt.show()"
   ]
  },
  {
   "cell_type": "code",
   "execution_count": 86,
   "metadata": {},
   "outputs": [],
   "source": [
    "data = features[keywords_pos + keywords_neg]\n",
    "target = features['Positive']"
   ]
  },
  {
   "cell_type": "code",
   "execution_count": 87,
   "metadata": {},
   "outputs": [
    {
     "name": "stdout",
     "output_type": "stream",
     "text": [
      "Number of mislabeled points out of a total 1000 points : 271\n"
     ]
    }
   ],
   "source": [
    "#the data is binary, so I will use a binary model\n",
    "bnb = BernoulliNB()\n",
    "bnb.fit(data, target)\n",
    "\n",
    "#Store the predicted values\n",
    "y_pred = bnb.fit(data, target).predict(data)\n",
    "\n",
    "print(\"Number of mislabeled points out of a total {} points : {}\".format(data.shape[0],(target != y_pred).sum()))"
   ]
  },
  {
   "cell_type": "code",
   "execution_count": 88,
   "metadata": {},
   "outputs": [
    {
     "data": {
      "text/plain": [
       "0.319"
      ]
     },
     "execution_count": 88,
     "metadata": {},
     "output_type": "execute_result"
    }
   ],
   "source": [
    "y_pred.sum()/1000"
   ]
  },
  {
   "cell_type": "markdown",
   "metadata": {},
   "source": [
    "## The Other Reviews\n",
    "\n",
    "Now I'll see if the classifier I made for Amazon reviews will also work for IMDB and Yelp reviews.  I repeat the importing, cleaning, and classification process on both sets of reviews."
   ]
  },
  {
   "cell_type": "code",
   "execution_count": 63,
   "metadata": {
    "scrolled": true
   },
   "outputs": [],
   "source": [
    "with codecs.open('imdb_labelled.txt', \"r\",encoding='utf-8', errors='ignore') as fdata:\n",
    "    imdb_raw = fdata.read()"
   ]
  },
  {
   "cell_type": "code",
   "execution_count": 64,
   "metadata": {},
   "outputs": [],
   "source": [
    "imdb_split = imdb_raw.split('\\n')\n",
    "imdb_series = pd.Series(imdb_split)\n",
    "del imdb_series[1000]\n",
    "imdb = imdb_series.str.split('\\t',n=2,expand=True)\n",
    "imdb.columns = ['Message', 'Positive']"
   ]
  },
  {
   "cell_type": "code",
   "execution_count": 65,
   "metadata": {},
   "outputs": [
    {
     "data": {
      "text/html": [
       "<div>\n",
       "<style scoped>\n",
       "    .dataframe tbody tr th:only-of-type {\n",
       "        vertical-align: middle;\n",
       "    }\n",
       "\n",
       "    .dataframe tbody tr th {\n",
       "        vertical-align: top;\n",
       "    }\n",
       "\n",
       "    .dataframe thead th {\n",
       "        text-align: right;\n",
       "    }\n",
       "</style>\n",
       "<table border=\"1\" class=\"dataframe\">\n",
       "  <thead>\n",
       "    <tr style=\"text-align: right;\">\n",
       "      <th></th>\n",
       "      <th>Message</th>\n",
       "      <th>Positive</th>\n",
       "    </tr>\n",
       "  </thead>\n",
       "  <tbody>\n",
       "    <tr>\n",
       "      <th>0</th>\n",
       "      <td>A very, very, very slow-moving, aimless movie ...</td>\n",
       "      <td>0</td>\n",
       "    </tr>\n",
       "    <tr>\n",
       "      <th>1</th>\n",
       "      <td>Not sure who was more lost - the flat characte...</td>\n",
       "      <td>0</td>\n",
       "    </tr>\n",
       "    <tr>\n",
       "      <th>2</th>\n",
       "      <td>Attempting artiness with black &amp; white and cle...</td>\n",
       "      <td>0</td>\n",
       "    </tr>\n",
       "    <tr>\n",
       "      <th>3</th>\n",
       "      <td>Very little music or anything to speak of.</td>\n",
       "      <td>0</td>\n",
       "    </tr>\n",
       "    <tr>\n",
       "      <th>4</th>\n",
       "      <td>The best scene in the movie was when Gerardo i...</td>\n",
       "      <td>1</td>\n",
       "    </tr>\n",
       "  </tbody>\n",
       "</table>\n",
       "</div>"
      ],
      "text/plain": [
       "                                             Message Positive\n",
       "0  A very, very, very slow-moving, aimless movie ...        0\n",
       "1  Not sure who was more lost - the flat characte...        0\n",
       "2  Attempting artiness with black & white and cle...        0\n",
       "3       Very little music or anything to speak of.          0\n",
       "4  The best scene in the movie was when Gerardo i...        1"
      ]
     },
     "metadata": {},
     "output_type": "display_data"
    }
   ],
   "source": [
    "display(imdb.head())"
   ]
  },
  {
   "cell_type": "code",
   "execution_count": 66,
   "metadata": {},
   "outputs": [],
   "source": [
    "#initiate features df with same keywords as before (keywords_pos and keywords_neg)\n",
    "features_imdb = pd.DataFrame()\n",
    "\n",
    "features_imdb['Positive'] = imdb['Positive'].apply({'1' :True, '0' :False}.get)\n",
    "\n",
    "for key in keywords_pos:\n",
    "    features_imdb[str(key)] = imdb.Message.str.contains(str(key),case=False)\n",
    "\n",
    "for key in keywords_neg:\n",
    "    features_imdb[str(key)] = True\n",
    "    for i in range(1000):\n",
    "        features_imdb[str(key)][i] = key not in imdb['Message'][i].lower()"
   ]
  },
  {
   "cell_type": "code",
   "execution_count": 67,
   "metadata": {},
   "outputs": [],
   "source": [
    "#Run Prediction and Record Results\n",
    "targeti = features_imdb['Positive']\n",
    "datai = features_imdb[keywords_pos + keywords_neg]\n",
    "\n",
    "bnbi = BernoulliNB()\n",
    "bnbi.fit(datai, targeti)\n",
    "\n",
    "y_predi = bnbi.predict(datai)"
   ]
  },
  {
   "cell_type": "code",
   "execution_count": 68,
   "metadata": {},
   "outputs": [],
   "source": [
    "with codecs.open('yelp_labelled.txt', \"r\",encoding='utf-8', errors='ignore') as fdata:\n",
    "    yelp_raw = fdata.read()"
   ]
  },
  {
   "cell_type": "code",
   "execution_count": 69,
   "metadata": {},
   "outputs": [],
   "source": [
    "yelp_split = yelp_raw.split('\\n')\n",
    "yelp_series = pd.Series(yelp_split)\n",
    "del yelp_series[1000]\n",
    "yelp = yelp_series.str.split('\\t',n=2,expand=True)\n",
    "yelp.columns = ['Message', 'Positive']"
   ]
  },
  {
   "cell_type": "code",
   "execution_count": 70,
   "metadata": {},
   "outputs": [
    {
     "data": {
      "text/html": [
       "<div>\n",
       "<style scoped>\n",
       "    .dataframe tbody tr th:only-of-type {\n",
       "        vertical-align: middle;\n",
       "    }\n",
       "\n",
       "    .dataframe tbody tr th {\n",
       "        vertical-align: top;\n",
       "    }\n",
       "\n",
       "    .dataframe thead th {\n",
       "        text-align: right;\n",
       "    }\n",
       "</style>\n",
       "<table border=\"1\" class=\"dataframe\">\n",
       "  <thead>\n",
       "    <tr style=\"text-align: right;\">\n",
       "      <th></th>\n",
       "      <th>Message</th>\n",
       "      <th>Positive</th>\n",
       "    </tr>\n",
       "  </thead>\n",
       "  <tbody>\n",
       "    <tr>\n",
       "      <th>0</th>\n",
       "      <td>Wow... Loved this place.</td>\n",
       "      <td>1</td>\n",
       "    </tr>\n",
       "    <tr>\n",
       "      <th>1</th>\n",
       "      <td>Crust is not good.</td>\n",
       "      <td>0</td>\n",
       "    </tr>\n",
       "    <tr>\n",
       "      <th>2</th>\n",
       "      <td>Not tasty and the texture was just nasty.</td>\n",
       "      <td>0</td>\n",
       "    </tr>\n",
       "    <tr>\n",
       "      <th>3</th>\n",
       "      <td>Stopped by during the late May bank holiday of...</td>\n",
       "      <td>1</td>\n",
       "    </tr>\n",
       "    <tr>\n",
       "      <th>4</th>\n",
       "      <td>The selection on the menu was great and so wer...</td>\n",
       "      <td>1</td>\n",
       "    </tr>\n",
       "  </tbody>\n",
       "</table>\n",
       "</div>"
      ],
      "text/plain": [
       "                                             Message Positive\n",
       "0                           Wow... Loved this place.        1\n",
       "1                                 Crust is not good.        0\n",
       "2          Not tasty and the texture was just nasty.        0\n",
       "3  Stopped by during the late May bank holiday of...        1\n",
       "4  The selection on the menu was great and so wer...        1"
      ]
     },
     "metadata": {},
     "output_type": "display_data"
    }
   ],
   "source": [
    "display(yelp.head())"
   ]
  },
  {
   "cell_type": "code",
   "execution_count": 71,
   "metadata": {},
   "outputs": [],
   "source": [
    "#initiate features df with same keywords as before\n",
    "features_yelp = pd.DataFrame()\n",
    "\n",
    "features_yelp['Positive'] = yelp['Positive'].apply({'1' :True, '0' :False}.get)\n",
    "\n",
    "for key in keywords_pos:\n",
    "    features_yelp[str(key)] = yelp.Message.str.contains(str(key),case=False)\n",
    "\n",
    "for key in keywords_neg:\n",
    "    features_yelp[str(key)] = True\n",
    "    for i in range(1000):\n",
    "        features_yelp[str(key)][i] = key not in yelp['Message'][i].lower()"
   ]
  },
  {
   "cell_type": "code",
   "execution_count": 72,
   "metadata": {},
   "outputs": [],
   "source": [
    "#Run Prediction and Record Results\n",
    "targety = features_yelp['Positive']\n",
    "datay = features_yelp[keywords_pos + keywords_neg]\n",
    "\n",
    "bnby = BernoulliNB()\n",
    "bnby.fit(datay, targety)\n",
    "\n",
    "y_predy = bnby.predict(datay)"
   ]
  },
  {
   "cell_type": "code",
   "execution_count": 73,
   "metadata": {},
   "outputs": [
    {
     "name": "stdout",
     "output_type": "stream",
     "text": [
      "IMDB reviews were mispredicted 375 times out of 1000 total points\n",
      "Yelp reviews were mispredicted 342 times out of 1000 total points\n"
     ]
    }
   ],
   "source": [
    "print(\"IMDB reviews were mispredicted {} times out of {} total points\".format((targeti != y_predi).sum(),datai.shape[0]))\n",
    "print(\"Yelp reviews were mispredicted {} times out of {} total points\".format((targety != y_predy).sum(),datay.shape[0]))"
   ]
  },
  {
   "cell_type": "markdown",
   "metadata": {},
   "source": [
    "The predictor is certainly more suited to detecting sentiment in amazon reviews, but it was still somewhat accurate with reviews in other contexts."
   ]
  },
  {
   "cell_type": "markdown",
   "metadata": {},
   "source": [
    "# Evaluating the Classifier\n",
    "\n",
    "Now I should evaluate the health of my classifier, I can look at it with many different tests.\n",
    "\n",
    "The first thing I'll do is creat a confusion matrix. This will let me see what type of errors my classifier is encountering."
   ]
  },
  {
   "cell_type": "code",
   "execution_count": 102,
   "metadata": {},
   "outputs": [
    {
     "name": "stdout",
     "output_type": "stream",
     "text": [
      "[[455  45]\n",
      " [226 274]]\n",
      "Correctly identified 455 negative reviews, misidenfied 45 negative reviews\n",
      "Correctly identified 274 positive reviews, misidenfied 226 positive rreviews\n"
     ]
    }
   ],
   "source": [
    "from sklearn.metrics import confusion_matrix\n",
    "\n",
    "a,b,c,d = confusion_matrix(target,y_pred).ravel()\n",
    "\n",
    "print(confusion_matrix(target,y_pred))\n",
    "print(\"Correctly identified {} negative reviews, misidenfied {} negative reviews\".format(a,b))\n",
    "print(\"Correctly identified {} positive reviews, misidenfied {} positive rreviews\".format(d,c))"
   ]
  },
  {
   "cell_type": "markdown",
   "metadata": {},
   "source": [
    "It seems our classfier is very good at identifying negative reviews, but it absolutely awful and predicting positive ones, barely getting a better result than if it had just blindly guessed.\n",
    "\n",
    "Next, I'll do is a __Holdout Group Test__. In this test, I will run a prediction with all the data and compare it to a prediction with a portion of the data removed, they should be the same or similar. Here, I'll choose to do the test with 10% of the data held out.  Usually it's better to holdout more, but the sample is not bery large and I want to make sure the holdout will still have a representative sameple."
   ]
  },
  {
   "cell_type": "code",
   "execution_count": 98,
   "metadata": {},
   "outputs": [
    {
     "name": "stdout",
     "output_type": "stream",
     "text": [
      "With 10% Holdout: 0.73\n",
      "With Whole Sample: 0.729\n"
     ]
    }
   ],
   "source": [
    "from sklearn.model_selection import train_test_split\n",
    "\n",
    "# creating the groups needed to test the data with a 10% holdout\n",
    "X_train, X_test, y_train, y_test = train_test_split(data, target, test_size=0.1, random_state=20)\n",
    "print('With 10% Holdout: ' + str(bnb.fit(X_train, y_train).score(X_test, y_test)))\n",
    "print('With Whole Sample: ' + str(bnb.fit(data, target).score(data, target)))"
   ]
  },
  {
   "cell_type": "markdown",
   "metadata": {},
   "source": [
    "These results are great! Though the results are a little different, indicating that there may be some overfitting, they are similar enough that it should be fine.\n",
    "\n",
    "Finally, I will do a __Cross Validation Test__. In this test, the data is split into a specified number of groups and the accuracy of each groups' respective predictions are compared against each other. If there are no outliers and the data is all accurately described, the predictions should be similar amoung all groups.  Like before, I will chose a smaller number of groups than is usually desired, since my data is small, 5 groups to be exact."
   ]
  },
  {
   "cell_type": "code",
   "execution_count": 99,
   "metadata": {
    "scrolled": true
   },
   "outputs": [
    {
     "data": {
      "text/plain": [
       "array([0.75 , 0.755, 0.715, 0.665, 0.675])"
      ]
     },
     "metadata": {},
     "output_type": "display_data"
    }
   ],
   "source": [
    "from sklearn.model_selection import cross_val_score\n",
    "\n",
    "display(cross_val_score(bnb, data, target, cv=5))"
   ]
  },
  {
   "cell_type": "markdown",
   "metadata": {},
   "source": [
    "These results are a little worrying, the difference in scores indicates that there might be some outliers. In the case of our data, that may indicate that there are some comments which are not enitrely explained by our selected features, indicating we need to make more. \n",
    "\n",
    "The classifier is not inherently flawed by any means, but there is still some work to do on it."
   ]
  }
 ],
 "metadata": {
  "kernelspec": {
   "display_name": "Python 3",
   "language": "python",
   "name": "python3"
  },
  "language_info": {
   "codemirror_mode": {
    "name": "ipython",
    "version": 3
   },
   "file_extension": ".py",
   "mimetype": "text/x-python",
   "name": "python",
   "nbconvert_exporter": "python",
   "pygments_lexer": "ipython3",
   "version": "3.6.4"
  }
 },
 "nbformat": 4,
 "nbformat_minor": 2
}
